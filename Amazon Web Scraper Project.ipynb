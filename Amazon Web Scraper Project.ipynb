{
 "cells": [
  {
   "cell_type": "code",
   "execution_count": 4,
   "id": "ec79376a",
   "metadata": {},
   "outputs": [],
   "source": [
    "# Starting with Importing Libraries\n",
    "\n",
    "from bs4 import BeautifulSoup\n",
    "import requests\n",
    "import smtplib\n",
    "import time\n",
    "import datetime"
   ]
  },
  {
   "cell_type": "code",
   "execution_count": 3,
   "id": "957977c3",
   "metadata": {},
   "outputs": [
    {
     "name": "stdout",
     "output_type": "stream",
     "text": [
      "Collecting requests\n",
      "  Downloading requests-2.31.0-py3-none-any.whl.metadata (4.6 kB)\n",
      "Collecting charset-normalizer<4,>=2 (from requests)\n",
      "  Downloading charset_normalizer-3.3.2-cp39-cp39-win_amd64.whl.metadata (34 kB)\n",
      "Collecting idna<4,>=2.5 (from requests)\n",
      "  Downloading idna-3.6-py3-none-any.whl.metadata (9.9 kB)\n",
      "Collecting urllib3<3,>=1.21.1 (from requests)\n",
      "  Downloading urllib3-2.2.1-py3-none-any.whl.metadata (6.4 kB)\n",
      "Collecting certifi>=2017.4.17 (from requests)\n",
      "  Downloading certifi-2024.2.2-py3-none-any.whl.metadata (2.2 kB)\n",
      "Downloading requests-2.31.0-py3-none-any.whl (62 kB)\n",
      "   ---------------------------------------- 0.0/62.6 kB ? eta -:--:--\n",
      "   ---------------------------------------- 62.6/62.6 kB 1.6 MB/s eta 0:00:00\n",
      "Downloading certifi-2024.2.2-py3-none-any.whl (163 kB)\n",
      "   ---------------------------------------- 0.0/163.8 kB ? eta -:--:--\n",
      "   ---------------------------------------- 163.8/163.8 kB 3.3 MB/s eta 0:00:00\n",
      "Downloading charset_normalizer-3.3.2-cp39-cp39-win_amd64.whl (100 kB)\n",
      "   ---------------------------------------- 0.0/100.4 kB ? eta -:--:--\n",
      "   ---------------------------------------- 100.4/100.4 kB 5.6 MB/s eta 0:00:00\n",
      "Downloading idna-3.6-py3-none-any.whl (61 kB)\n",
      "   ---------------------------------------- 0.0/61.6 kB ? eta -:--:--\n",
      "   ---------------------------------------- 61.6/61.6 kB 3.4 MB/s eta 0:00:00\n",
      "Downloading urllib3-2.2.1-py3-none-any.whl (121 kB)\n",
      "   ---------------------------------------- 0.0/121.1 kB ? eta -:--:--\n",
      "   ---------------------------------------- 121.1/121.1 kB 3.6 MB/s eta 0:00:00\n",
      "Installing collected packages: urllib3, idna, charset-normalizer, certifi, requests\n",
      "Successfully installed certifi-2024.2.2 charset-normalizer-3.3.2 idna-3.6 requests-2.31.0 urllib3-2.2.1\n"
     ]
    }
   ],
   "source": [
    "!pip install requests"
   ]
  },
  {
   "cell_type": "code",
   "execution_count": 32,
   "id": "624e6249",
   "metadata": {},
   "outputs": [
    {
     "name": "stdout",
     "output_type": "stream",
     "text": [
      "        Funny Got Data MIS Data Systems Business Analyst T-Shirt       \n",
      "16.99\n"
     ]
    }
   ],
   "source": [
    "# Connect to the website and pull in data\n",
    "\n",
    "URL = 'https://www.amazon.com/Funny-Data-Systems-Business-Analyst/dp/B07FNW9FGJ/ref=sr_1_2?crid=IY5IK96W46GJ&dib=eyJ2IjoiMSJ9.80SWGgAumpHARJABH_TkJaZawg2GsEAHzNY39qxX0ML6p2_Spe1aP0VJ1Ejmwggfow7zmb_5n4S_ZbanRFC__w5wDomqJAJX0Khi--9yza6n-E5uLXC9vzA-Okb_I29hic463vcBTj3kuak_CyX7FDQYk9whW1UL38uDyMi4WFHgqI1LWqpbJU9XQppyzPjzKHEXVXJbBe-al8QxFPPZ2Op-UuaPm3VK2BZc2LpY_YHXB4QmGmd0uYsrnlzadg7ROLAZYDNyIXt22JV9OjTrfxTi47uGVU0jjKV0_OXPqYI.0DAu2NiZ0oJ9iJp2IO28Le8G4YZ8M7BnD8so32emIcg&dib_tag=se&keywords=funny+amazon+data+shirt&qid=1711914418&sprefix=funny+amazon+data+shir%2Caps%2C456&sr=8-2'\n",
    "\n",
    "\n",
    "headers = {\"User-Agent\": \"Mozilla/5.0 (Windows NT 10.0; Win64; x64) AppleWebKit/537.36 (KHTML, like Gecko) Chrome/123.0.0.0 Safari/537.36\", \"Accept-Encoding\":\"gzip, deflate\", \"Accept\":\"text/html,application/xhtml+xml,application/xml;q=0.9,*/*;q=0.8\", \"DNT\":\"1\",\"Connection\":\"close\", \"Upgrade-Insecure-Requests\":\"1\"}\n",
    "\n",
    "\n",
    "URL = 'https://www.amazon.com/Funny-Data-Systems-Business-Analyst/dp/B07FNW9FGJ/ref=sr_1_2?crid=IY5IK96W46GJ&dib=eyJ2IjoiMSJ9.80SWGgAumpHARJABH_TkJaZawg2GsEAHzNY39qxX0ML6p2_Spe1aP0VJ1Ejmwggfow7zmb_5n4S_ZbanRFC__w5wDomqJAJX0Khi--9yza6n-E5uLXC9vzA-Okb_I29hic463vcBTj3kuak_CyX7FDQYk9whW1UL38uDyMi4WFHgqI1LWqpbJU9XQppyzPjzKHEXVXJbBe-al8QxFPPZ2Op-UuaPm3VK2BZc2LpY_YHXB4QmGmd0uYsrnlzadg7ROLAZYDNyIXt22JV9OjTrfxTi47uGVU0jjKV0_OXPqYI.0DAu2NiZ0oJ9iJp2IO28Le8G4YZ8M7BnD8so32emIcg&dib_tag=se&keywords=funny+amazon+data+shirt&qid=1711914418&sprefix=funny+amazon+data+shir%2Caps%2C456&sr=8-2'\n",
    "page = requests.get(URL)\n",
    "soup = BeautifulSoup(page.content, \"html\")\n",
    "\n",
    "title = soup.find(id=\"productTitle\").get_text()\n",
    "\n",
    "price_dollar = soup.find(name=\"span\", class_=\"a-price-whole\").getText()\n",
    "price_cents = soup.find(name=\"span\", class_=\"a-price-fraction\").getText()\n",
    "price = (float(f\"{price_dollar}{price_cents}\"))\n",
    "\n",
    "print(title)\n",
    "print(price)\n",
    "\n",
    "\n",
    "\n",
    "\n",
    "\n",
    "\n"
   ]
  },
  {
   "cell_type": "code",
   "execution_count": 33,
   "id": "d3e6c1c5",
   "metadata": {},
   "outputs": [
    {
     "name": "stdout",
     "output_type": "stream",
     "text": [
      "Funny Got Data MIS Data Systems Business Analyst T-Shirt\n",
      "16.99\n"
     ]
    }
   ],
   "source": [
    "# Clean up the data a little bit\n",
    "\n",
    "title = title.strip()\n",
    "\n",
    "\n",
    "print(title)\n",
    "print(price)"
   ]
  },
  {
   "cell_type": "code",
   "execution_count": 40,
   "id": "5e498d4a",
   "metadata": {},
   "outputs": [
    {
     "name": "stdout",
     "output_type": "stream",
     "text": [
      "2024-04-01\n"
     ]
    }
   ],
   "source": [
    "# Creating a Timestamp for my output to track when data was collected\n",
    "\n",
    "import datetime\n",
    "\n",
    "today = datetime.date.today()\n",
    "\n",
    "print(today)"
   ]
  },
  {
   "cell_type": "code",
   "execution_count": 43,
   "id": "a247a2ec",
   "metadata": {},
   "outputs": [],
   "source": [
    "# Create CSV and write headers and data into the file\n",
    "\n",
    "import csv\n",
    "\n",
    "\n",
    "header = ['Title', 'Price', 'Date']\n",
    "data = [title, price, today]\n",
    "\n",
    "with open('WebScraperDataset.csv', 'w', newline='', encoding='UTF8') as f:\n",
    "    writer = csv.writer(f)\n",
    "    writer.writerow(header)\n",
    "    writer.writerow(data)\n",
    "\n"
   ]
  },
  {
   "cell_type": "code",
   "execution_count": 50,
   "id": "0e2530b0",
   "metadata": {},
   "outputs": [
    {
     "name": "stdout",
     "output_type": "stream",
     "text": [
      "                                               Title  Price        Date\n",
      "0  Funny Got Data MIS Data Systems Business Analy...  16.99  2024-04-01\n",
      "1  Funny Got Data MIS Data Systems Business Analy...  16.99  2024-04-01\n",
      "2  Funny Got Data MIS Data Systems Business Analy...  16.99  2024-04-01\n"
     ]
    }
   ],
   "source": [
    "import pandas as pd\n",
    "\n",
    "df = pd.read_csv(r'C:\\Users\\Kevin Jepson\\Desktop\\WebScraperDataset.csv')\n",
    "\n",
    "print(df)"
   ]
  },
  {
   "cell_type": "code",
   "execution_count": 49,
   "id": "f6562bc7",
   "metadata": {},
   "outputs": [],
   "source": [
    "# Here I am appending data to the csv\n",
    "\n",
    "with open('WebScraperDataset.csv', 'a+', newline='', encoding='UTF8') as f:\n",
    "    writer = csv.writer(f)\n",
    "    writer.writerow(data)"
   ]
  },
  {
   "cell_type": "code",
   "execution_count": 51,
   "id": "22a57f96",
   "metadata": {},
   "outputs": [],
   "source": [
    "#Combine all of the above code into one function\n",
    "\n",
    "def check_price():\n",
    "    URL = 'https://www.amazon.com/Funny-Data-Systems-Business-Analyst/dp/B07FNW9FGJ/ref=sr_1_2?crid=IY5IK96W46GJ&dib=eyJ2IjoiMSJ9.80SWGgAumpHARJABH_TkJaZawg2GsEAHzNY39qxX0ML6p2_Spe1aP0VJ1Ejmwggfow7zmb_5n4S_ZbanRFC__w5wDomqJAJX0Khi--9yza6n-E5uLXC9vzA-Okb_I29hic463vcBTj3kuak_CyX7FDQYk9whW1UL38uDyMi4WFHgqI1LWqpbJU9XQppyzPjzKHEXVXJbBe-al8QxFPPZ2Op-UuaPm3VK2BZc2LpY_YHXB4QmGmd0uYsrnlzadg7ROLAZYDNyIXt22JV9OjTrfxTi47uGVU0jjKV0_OXPqYI.0DAu2NiZ0oJ9iJp2IO28Le8G4YZ8M7BnD8so32emIcg&dib_tag=se&keywords=funny+amazon+data+shirt&qid=1711914418&sprefix=funny+amazon+data+shir%2Caps%2C456&sr=8-2'\n",
    "\n",
    "    headers = {\"User-Agent\": \"Mozilla/5.0 (Windows NT 10.0; Win64; x64) AppleWebKit/537.36 (KHTML, like Gecko) Chrome/123.0.0.0 Safari/537.36\", \"Accept-Encoding\":\"gzip, deflate\", \"Accept\":\"text/html,application/xhtml+xml,application/xml;q=0.9,*/*;q=0.8\", \"DNT\":\"1\",\"Connection\":\"close\", \"Upgrade-Insecure-Requests\":\"1\"}\n",
    "\n",
    "    URL = 'https://www.amazon.com/Funny-Data-Systems-Business-Analyst/dp/B07FNW9FGJ/ref=sr_1_2?crid=IY5IK96W46GJ&dib=eyJ2IjoiMSJ9.80SWGgAumpHARJABH_TkJaZawg2GsEAHzNY39qxX0ML6p2_Spe1aP0VJ1Ejmwggfow7zmb_5n4S_ZbanRFC__w5wDomqJAJX0Khi--9yza6n-E5uLXC9vzA-Okb_I29hic463vcBTj3kuak_CyX7FDQYk9whW1UL38uDyMi4WFHgqI1LWqpbJU9XQppyzPjzKHEXVXJbBe-al8QxFPPZ2Op-UuaPm3VK2BZc2LpY_YHXB4QmGmd0uYsrnlzadg7ROLAZYDNyIXt22JV9OjTrfxTi47uGVU0jjKV0_OXPqYI.0DAu2NiZ0oJ9iJp2IO28Le8G4YZ8M7BnD8so32emIcg&dib_tag=se&keywords=funny+amazon+data+shirt&qid=1711914418&sprefix=funny+amazon+data+shir%2Caps%2C456&sr=8-2'\n",
    "    \n",
    "    page = requests.get(URL)\n",
    "    \n",
    "    soup = BeautifulSoup(page.content, \"html\")\n",
    "\n",
    "    title = soup.find(id=\"productTitle\").get_text()\n",
    "\n",
    "    price_dollar = soup.find(name=\"span\", class_=\"a-price-whole\").getText()\n",
    "    \n",
    "    price_cents = soup.find(name=\"span\", class_=\"a-price-fraction\").getText()\n",
    "    \n",
    "    price = (float(f\"{price_dollar}{price_cents}\"))\n",
    "    \n",
    "    title = title.strip()\n",
    "    \n",
    "    import datetime\n",
    "\n",
    "    today = datetime.date.today()\n",
    "    \n",
    "    import csv\n",
    "\n",
    "\n",
    "    header = ['Title', 'Price', 'Date']\n",
    "    data = [title, price, today]\n",
    "    \n",
    "    with open('WebScraperDataset.csv', 'a+', newline='', encoding='UTF8') as f:\n",
    "        writer = csv.writer(f)\n",
    "        writer.writerow(data)\n",
    "\n",
    "    "
   ]
  },
  {
   "cell_type": "code",
   "execution_count": null,
   "id": "cde329a9",
   "metadata": {},
   "outputs": [],
   "source": [
    "# Runs check_price after a set time and inputs data into your CSV\n",
    "\n",
    "while(True):\n",
    "    check_price()\n",
    "    time.sleep(86400)"
   ]
  },
  {
   "cell_type": "code",
   "execution_count": 56,
   "id": "174d5330",
   "metadata": {},
   "outputs": [
    {
     "name": "stdout",
     "output_type": "stream",
     "text": [
      "                                               Title  Price        Date\n",
      "0  Funny Got Data MIS Data Systems Business Analy...  16.99  2024-04-01\n",
      "1  Funny Got Data MIS Data Systems Business Analy...  16.99  2024-04-01\n",
      "2  Funny Got Data MIS Data Systems Business Analy...  16.99  2024-04-01\n",
      "3  Funny Got Data MIS Data Systems Business Analy...  16.99  2024-04-01\n",
      "4  Funny Got Data MIS Data Systems Business Analy...  16.99  2024-04-01\n",
      "5  Funny Got Data MIS Data Systems Business Analy...  16.99  2024-04-01\n",
      "6  Funny Got Data MIS Data Systems Business Analy...  16.99  2024-04-01\n",
      "7  Funny Got Data MIS Data Systems Business Analy...  16.99  2024-04-01\n"
     ]
    }
   ],
   "source": [
    "import pandas as pd\n",
    "\n",
    "df = pd.read_csv(r'C:\\Users\\Kevin Jepson\\Desktop\\WebScraperDataset.csv')\n",
    "\n",
    "print(df)"
   ]
  },
  {
   "cell_type": "code",
   "execution_count": null,
   "id": "713dcc01",
   "metadata": {},
   "outputs": [],
   "source": []
  }
 ],
 "metadata": {
  "kernelspec": {
   "display_name": "Python 3 (ipykernel)",
   "language": "python",
   "name": "python3"
  },
  "language_info": {
   "codemirror_mode": {
    "name": "ipython",
    "version": 3
   },
   "file_extension": ".py",
   "mimetype": "text/x-python",
   "name": "python",
   "nbconvert_exporter": "python",
   "pygments_lexer": "ipython3",
   "version": "3.9.19"
  }
 },
 "nbformat": 4,
 "nbformat_minor": 5
}
